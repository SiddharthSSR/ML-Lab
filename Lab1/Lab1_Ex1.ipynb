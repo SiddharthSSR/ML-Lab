{
 "cells": [
  {
   "cell_type": "markdown",
   "id": "2ba5dd8d",
   "metadata": {},
   "source": [
    "## ML-LAB-1 EX-1\n",
    "## Imports"
   ]
  },
  {
   "cell_type": "code",
   "execution_count": 1,
   "id": "71ab64a0",
   "metadata": {},
   "outputs": [],
   "source": [
    "import pandas as pd\n",
    "import numpy as np\n",
    "from matplotlib import pyplot as plt\n",
    "%matplotlib inline"
   ]
  },
  {
   "cell_type": "markdown",
   "id": "2dd86b82",
   "metadata": {},
   "source": [
    "## Importing the data "
   ]
  },
  {
   "cell_type": "code",
   "execution_count": 29,
   "id": "cc7b19b7",
   "metadata": {},
   "outputs": [
    {
     "data": {
      "text/html": [
       "<div>\n",
       "<style scoped>\n",
       "    .dataframe tbody tr th:only-of-type {\n",
       "        vertical-align: middle;\n",
       "    }\n",
       "\n",
       "    .dataframe tbody tr th {\n",
       "        vertical-align: top;\n",
       "    }\n",
       "\n",
       "    .dataframe thead th {\n",
       "        text-align: right;\n",
       "    }\n",
       "</style>\n",
       "<table border=\"1\" class=\"dataframe\">\n",
       "  <thead>\n",
       "    <tr style=\"text-align: right;\">\n",
       "      <th></th>\n",
       "      <th>model</th>\n",
       "      <th>mpg</th>\n",
       "      <th>cyl</th>\n",
       "      <th>disp</th>\n",
       "      <th>hp</th>\n",
       "      <th>drat</th>\n",
       "      <th>wt</th>\n",
       "      <th>qsec</th>\n",
       "      <th>vs</th>\n",
       "      <th>am</th>\n",
       "      <th>gear</th>\n",
       "      <th>carb</th>\n",
       "    </tr>\n",
       "  </thead>\n",
       "  <tbody>\n",
       "    <tr>\n",
       "      <th>0</th>\n",
       "      <td>Mazda RX4</td>\n",
       "      <td>21.0</td>\n",
       "      <td>6</td>\n",
       "      <td>160.0</td>\n",
       "      <td>110</td>\n",
       "      <td>3.90</td>\n",
       "      <td>2.620</td>\n",
       "      <td>16.46</td>\n",
       "      <td>0</td>\n",
       "      <td>1</td>\n",
       "      <td>4</td>\n",
       "      <td>4</td>\n",
       "    </tr>\n",
       "    <tr>\n",
       "      <th>1</th>\n",
       "      <td>Mazda RX4 Wag</td>\n",
       "      <td>21.0</td>\n",
       "      <td>6</td>\n",
       "      <td>160.0</td>\n",
       "      <td>110</td>\n",
       "      <td>3.90</td>\n",
       "      <td>2.875</td>\n",
       "      <td>17.02</td>\n",
       "      <td>0</td>\n",
       "      <td>1</td>\n",
       "      <td>4</td>\n",
       "      <td>4</td>\n",
       "    </tr>\n",
       "    <tr>\n",
       "      <th>2</th>\n",
       "      <td>Datsun 710</td>\n",
       "      <td>22.8</td>\n",
       "      <td>4</td>\n",
       "      <td>108.0</td>\n",
       "      <td>93</td>\n",
       "      <td>3.85</td>\n",
       "      <td>2.320</td>\n",
       "      <td>18.61</td>\n",
       "      <td>1</td>\n",
       "      <td>1</td>\n",
       "      <td>4</td>\n",
       "      <td>1</td>\n",
       "    </tr>\n",
       "    <tr>\n",
       "      <th>3</th>\n",
       "      <td>Hornet 4 Drive</td>\n",
       "      <td>21.4</td>\n",
       "      <td>6</td>\n",
       "      <td>258.0</td>\n",
       "      <td>110</td>\n",
       "      <td>3.08</td>\n",
       "      <td>3.215</td>\n",
       "      <td>19.44</td>\n",
       "      <td>1</td>\n",
       "      <td>0</td>\n",
       "      <td>3</td>\n",
       "      <td>1</td>\n",
       "    </tr>\n",
       "    <tr>\n",
       "      <th>4</th>\n",
       "      <td>Hornet Sportabout</td>\n",
       "      <td>18.7</td>\n",
       "      <td>8</td>\n",
       "      <td>360.0</td>\n",
       "      <td>175</td>\n",
       "      <td>3.15</td>\n",
       "      <td>3.440</td>\n",
       "      <td>17.02</td>\n",
       "      <td>0</td>\n",
       "      <td>0</td>\n",
       "      <td>3</td>\n",
       "      <td>2</td>\n",
       "    </tr>\n",
       "  </tbody>\n",
       "</table>\n",
       "</div>"
      ],
      "text/plain": [
       "               model   mpg  cyl   disp   hp  drat     wt   qsec  vs  am  gear  \\\n",
       "0          Mazda RX4  21.0    6  160.0  110  3.90  2.620  16.46   0   1     4   \n",
       "1      Mazda RX4 Wag  21.0    6  160.0  110  3.90  2.875  17.02   0   1     4   \n",
       "2         Datsun 710  22.8    4  108.0   93  3.85  2.320  18.61   1   1     4   \n",
       "3     Hornet 4 Drive  21.4    6  258.0  110  3.08  3.215  19.44   1   0     3   \n",
       "4  Hornet Sportabout  18.7    8  360.0  175  3.15  3.440  17.02   0   0     3   \n",
       "\n",
       "   carb  \n",
       "0     4  \n",
       "1     4  \n",
       "2     1  \n",
       "3     1  \n",
       "4     2  "
      ]
     },
     "execution_count": 29,
     "metadata": {},
     "output_type": "execute_result"
    }
   ],
   "source": [
    "data=pd.read_csv(\"mtcars.csv\")\n",
    "data.head()"
   ]
  },
  {
   "cell_type": "markdown",
   "id": "20271631",
   "metadata": {},
   "source": [
    "## Splitting the data in X and Y"
   ]
  },
  {
   "cell_type": "code",
   "execution_count": 86,
   "id": "3129550c",
   "metadata": {},
   "outputs": [],
   "source": [
    "X=data.iloc[:,6]\n",
    "y=data.iloc[:,1]\n",
    "m=len(y)"
   ]
  },
  {
   "cell_type": "code",
   "execution_count": 87,
   "id": "7446ecae",
   "metadata": {},
   "outputs": [
    {
     "data": {
      "image/png": "[encoded data removed]",
      "text/plain": [
       "<Figure size 432x288 with 1 Axes>"
      ]
     },
     "metadata": {
      "needs_background": "light"
     },
     "output_type": "display_data"
    }
   ],
   "source": [
    "plt.scatter(X,y)\n",
    "plt.show()"
   ]
  },
  {
   "cell_type": "code",
   "execution_count": 88,
   "id": "843587df",
   "metadata": {},
   "outputs": [
    {
     "name": "stderr",
     "output_type": "stream",
     "text": [
      "<ipython-input-88-6d3484cad85d>:1: FutureWarning: Support for multi-dimensional indexing (e.g. `obj[:, None]`) is deprecated and will be removed in a future version.  Convert to a numpy array before indexing instead.\n",
      "  X = X[:,np.newaxis]\n",
      "<ipython-input-88-6d3484cad85d>:2: FutureWarning: Support for multi-dimensional indexing (e.g. `obj[:, None]`) is deprecated and will be removed in a future version.  Convert to a numpy array before indexing instead.\n",
      "  y = y[:,np.newaxis]\n"
     ]
    }
   ],
   "source": [
    "X = X[:,np.newaxis]\n",
    "y = y[:,np.newaxis]\n",
    "theta = np.zeros([2,1])\n",
    "iterations = 1500\n",
    "alpha = 0.01\n",
    "ones = np.ones((m,1))\n",
    "X = np.hstack((ones, X))"
   ]
  },
  {
   "cell_type": "markdown",
   "id": "0879e7cf",
   "metadata": {},
   "source": [
    "## Computing the Cost Function"
   ]
  },
  {
   "cell_type": "code",
   "execution_count": 33,
   "id": "18793024",
   "metadata": {},
   "outputs": [],
   "source": [
    "def computeCost(X, y, theta):\n",
    "    temp = np.dot(X, theta) - y\n",
    "    J=np.sum(np.power(temp, 2)) / (2*m)\n",
    "    return J"
   ]
  },
  {
   "cell_type": "markdown",
   "id": "abb86659",
   "metadata": {},
   "source": [
    "## User defined function myFinLinReg"
   ]
  },
  {
   "cell_type": "code",
   "execution_count": 53,
   "id": "87516878",
   "metadata": {},
   "outputs": [],
   "source": [
    "def myFnLinReg_SGD(X, y, theta, alpha, iterations):\n",
    "    for _ in range(iterations):\n",
    "        d_theta = np.dot(X, theta) - y\n",
    "        d_theta = np.dot(X.T, d_theta)\n",
    "        theta = theta - (alpha/m) * d_theta\n",
    "    return theta"
   ]
  },
  {
   "cell_type": "code",
   "execution_count": 61,
   "id": "d6312aa0",
   "metadata": {},
   "outputs": [],
   "source": [
    "num=100\n",
    "def myFnLinReg_MB(X, y, theta, alpha, iterations):\n",
    "    for i in range(iterations):\n",
    "        d_theta = np.dot(X, theta) - y\n",
    "        d_theta = np.dot(X.T, d_theta)\n",
    "        if(i%num==0):\n",
    "            theta = theta - (alpha/m) * d_theta\n",
    "    return theta"
   ]
  },
  {
   "cell_type": "code",
   "execution_count": 63,
   "id": "3dcdf44c",
   "metadata": {},
   "outputs": [],
   "source": [
    "def myFnLinReg_GD(X, y, theta, alpha, iterations):\n",
    "    for _ in range(iterations):\n",
    "        d_theta = np.dot(X, theta) - y\n",
    "        d_theta = np.dot(X.T, d_theta)\n",
    "    theta = theta - (alpha/m) * d_theta\n",
    "    return theta"
   ]
  },
  {
   "cell_type": "markdown",
   "id": "8051aa7c",
   "metadata": {},
   "source": [
    "## Splitting the data set"
   ]
  },
  {
   "cell_type": "code",
   "execution_count": 64,
   "id": "960a9143",
   "metadata": {},
   "outputs": [
    {
     "name": "stdout",
     "output_type": "stream",
     "text": [
      "[[1.    2.62 ]\n",
      " [1.    2.875]\n",
      " [1.    2.32 ]\n",
      " [1.    3.215]\n",
      " [1.    3.44 ]\n",
      " [1.    3.46 ]\n",
      " [1.    3.57 ]\n",
      " [1.    3.19 ]\n",
      " [1.    3.15 ]\n",
      " [1.    3.44 ]\n",
      " [1.    3.44 ]\n",
      " [1.    4.07 ]\n",
      " [1.    3.73 ]\n",
      " [1.    3.78 ]\n",
      " [1.    5.25 ]\n",
      " [1.    5.424]\n",
      " [1.    5.345]\n",
      " [1.    2.2  ]\n",
      " [1.    1.615]\n",
      " [1.    1.835]\n",
      " [1.    2.465]\n",
      " [1.    3.52 ]]\n",
      "(9, 2)\n",
      "[[21. ]\n",
      " [21. ]\n",
      " [22.8]\n",
      " [21.4]\n",
      " [18.7]\n",
      " [18.1]\n",
      " [14.3]\n",
      " [24.4]\n",
      " [22.8]\n",
      " [19.2]\n",
      " [17.8]\n",
      " [16.4]\n",
      " [17.3]\n",
      " [15.2]\n",
      " [10.4]\n",
      " [10.4]\n",
      " [14.7]\n",
      " [32.4]\n",
      " [30.4]\n",
      " [33.9]\n",
      " [21.5]\n",
      " [15.5]]\n",
      "(9, 1)\n"
     ]
    }
   ],
   "source": [
    "X_train=X[:22]\n",
    "X_test=X[23:]\n",
    "y_train=y[:22]\n",
    "y_test=y[23:]\n",
    "print(X_train)\n",
    "print(X_test.shape)\n",
    "print(y_train)\n",
    "print(y_test.shape)"
   ]
  },
  {
   "cell_type": "code",
   "execution_count": 69,
   "id": "db02193c",
   "metadata": {},
   "outputs": [
    {
     "name": "stdout",
     "output_type": "stream",
     "text": [
      "[[35.10447125]\n",
      " [-4.55896613]]\n"
     ]
    }
   ],
   "source": [
    "theta = np.zeros([2,1])\n",
    "iterations = 5000\n",
    "alpha = 0.01\n",
    "theta=myFnLinReg_SGD(X_train,y_train,theta,alpha,iterations)\n",
    "print(theta)"
   ]
  },
  {
   "cell_type": "code",
   "execution_count": 70,
   "id": "b9451d2f",
   "metadata": {},
   "outputs": [
    {
     "data": {
      "text/plain": [
       "3.2515892315676305"
      ]
     },
     "execution_count": 70,
     "metadata": {},
     "output_type": "execute_result"
    }
   ],
   "source": [
    "J=computeCost(X_train,y_train,theta)\n",
    "J"
   ]
  },
  {
   "cell_type": "markdown",
   "id": "c694d242",
   "metadata": {},
   "source": [
    "## Predicted value of mpg whose weigth is 6.7"
   ]
  },
  {
   "cell_type": "code",
   "execution_count": 75,
   "id": "b31dd376",
   "metadata": {},
   "outputs": [
    {
     "name": "stdout",
     "output_type": "stream",
     "text": [
      "[4.55939815]\n"
     ]
    }
   ],
   "source": [
    "val=np.array([6.7])\n",
    "y_pred=theta[0]+theta[1]*val\n",
    "print(y_pred)"
   ]
  },
  {
   "cell_type": "code",
   "execution_count": 76,
   "id": "363e5a6c",
   "metadata": {},
   "outputs": [
    {
     "data": {
      "image/png": "[encoded data removed]",
      "text/plain": [
       "<Figure size 432x288 with 1 Axes>"
      ]
     },
     "metadata": {
      "needs_background": "light"
     },
     "output_type": "display_data"
    }
   ],
   "source": [
    "plt.scatter(X[:,1], y)\n",
    "plt.plot(X[:,1], np.dot(X, theta))\n",
    "plt.show()"
   ]
  },
  {
   "cell_type": "markdown",
   "id": "2f2190ff",
   "metadata": {},
   "source": [
    "## RSME and R2 for the test set"
   ]
  },
  {
   "cell_type": "code",
   "execution_count": 77,
   "id": "004acd71",
   "metadata": {},
   "outputs": [],
   "source": [
    "def predict(X,theta):\n",
    "    m=X.shape[0]\n",
    "    y_preds=np.zeros((m,1))\n",
    "    y_preds = np.dot(X,theta)\n",
    "    return y_preds"
   ]
  },
  {
   "cell_type": "code",
   "execution_count": 78,
   "id": "ac065dcb",
   "metadata": {},
   "outputs": [],
   "source": [
    "data_preds = (predict(X_test,theta))"
   ]
  },
  {
   "cell_type": "code",
   "execution_count": 80,
   "id": "0b84c477",
   "metadata": {},
   "outputs": [
    {
     "data": {
      "text/plain": [
       "2.8744026859905634"
      ]
     },
     "execution_count": 80,
     "metadata": {},
     "output_type": "execute_result"
    }
   ],
   "source": [
    "from sklearn.metrics import r2_score,mean_squared_error\n",
    "lin_mse=mean_squared_error(y_test,data_preds)\n",
    "lin_rmse=np.sqrt(lin_mse)\n",
    "lin_rmse"
   ]
  },
  {
   "cell_type": "code",
   "execution_count": 81,
   "id": "9d342b9c",
   "metadata": {},
   "outputs": [
    {
     "data": {
      "text/plain": [
       "0.7347895099113064"
      ]
     },
     "execution_count": 81,
     "metadata": {},
     "output_type": "execute_result"
    }
   ],
   "source": [
    "r2_score(y_test,data_preds)"
   ]
  },
  {
   "cell_type": "code",
   "execution_count": null,
   "id": "cb3ada70",
   "metadata": {},
   "outputs": [],
   "source": []
  }
 ],
 "metadata": {
  "kernelspec": {
   "display_name": "Python 3",
   "language": "python",
   "name": "python3"
  },
  "language_info": {
   "codemirror_mode": {
    "name": "ipython",
    "version": 3
   },
   "file_extension": ".py",
   "mimetype": "text/x-python",
   "name": "python",
   "nbconvert_exporter": "python",
   "pygments_lexer": "ipython3",
   "version": "3.8.8"
  }
 },
 "nbformat": 4,
 "nbformat_minor": 5
}
